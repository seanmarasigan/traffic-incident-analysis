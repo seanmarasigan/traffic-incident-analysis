{
 "cells": [
  {
   "cell_type": "markdown",
   "id": "d054dc71",
   "metadata": {},
   "source": [
    "# Traffic Incident Analysis in Manila"
   ]
  },
  {
   "cell_type": "markdown",
   "id": "8e411c3a",
   "metadata": {},
   "source": [
    "\n",
    "\n",
    "## Introduction\n",
    "\n",
    "Traffic incidents are a critical aspect of urban planning and safety management. Understanding the factors that contribute to these incidents can help policymakers and stakeholders make informed decisions to improve road safety and reduce the frequency and severity of accidents.\n",
    "\n",
    "In this notebook, we will explore a dataset containing traffic incident reports over a span of 2-3 years. The dataset includes detailed information such as the location (latitude and longitude), time of day, date, and weather conditions at the time of the incident. Our analysis will focus on identifying patterns and correlations between these variables to determine the impact of location, time of day, and weather on traffic incidents.\n",
    "\n",
    "We will address several key questions:\n",
    "- **Do specific locations experience a higher frequency of incidents?**\n",
    "- **Are there certain times of day when incidents are more likely to occur?**\n",
    "- **How does weather affect the frequency and severity of traffic incidents?**\n",
    "\n",
    "By the end of this analysis, we aim to provide insights that can inform traffic safety strategies and improve overall road conditions. This notebook is intended for a general audience, including recruiters and other data scientists who may be interested in evaluating the depth and quality of your data science skills."
   ]
  },
  {
   "cell_type": "code",
   "execution_count": 11,
   "id": "1b838257",
   "metadata": {},
   "outputs": [],
   "source": [
    "# Load the dataset\n",
    "import pandas as pd\n",
    "\n",
    "df = pd.read_csv('data/data_mmda_traffic_spatial.csv')"
   ]
  },
  {
   "cell_type": "code",
   "execution_count": 12,
   "id": "a665f7e9",
   "metadata": {},
   "outputs": [
    {
     "data": {
      "text/html": [
       "<div>\n",
       "<style scoped>\n",
       "    .dataframe tbody tr th:only-of-type {\n",
       "        vertical-align: middle;\n",
       "    }\n",
       "\n",
       "    .dataframe tbody tr th {\n",
       "        vertical-align: top;\n",
       "    }\n",
       "\n",
       "    .dataframe thead th {\n",
       "        text-align: right;\n",
       "    }\n",
       "</style>\n",
       "<table border=\"1\" class=\"dataframe\">\n",
       "  <thead>\n",
       "    <tr style=\"text-align: right;\">\n",
       "      <th></th>\n",
       "      <th>Date</th>\n",
       "      <th>Time</th>\n",
       "      <th>City</th>\n",
       "      <th>Location</th>\n",
       "      <th>Latitude</th>\n",
       "      <th>Longitude</th>\n",
       "      <th>High_Accuracy</th>\n",
       "      <th>Direction</th>\n",
       "      <th>Type</th>\n",
       "      <th>Lanes_Blocked</th>\n",
       "      <th>Involved</th>\n",
       "      <th>Tweet</th>\n",
       "      <th>Source</th>\n",
       "    </tr>\n",
       "  </thead>\n",
       "  <tbody>\n",
       "    <tr>\n",
       "      <th>0</th>\n",
       "      <td>2018-08-20</td>\n",
       "      <td>7:55 AM</td>\n",
       "      <td>Pasig City</td>\n",
       "      <td>ORTIGAS EMERALD</td>\n",
       "      <td>14.586343</td>\n",
       "      <td>121.061481</td>\n",
       "      <td>1</td>\n",
       "      <td>EB</td>\n",
       "      <td>VEHICULAR ACCIDENT</td>\n",
       "      <td>1.0</td>\n",
       "      <td>TAXI AND MC</td>\n",
       "      <td>MMDA ALERT: Vehicular accident at Ortigas Emer...</td>\n",
       "      <td>https://twitter.com/mmda/status/10313302019705...</td>\n",
       "    </tr>\n",
       "    <tr>\n",
       "      <th>1</th>\n",
       "      <td>2018-08-20</td>\n",
       "      <td>8:42 AM</td>\n",
       "      <td>Mandaluyong</td>\n",
       "      <td>EDSA GUADIX</td>\n",
       "      <td>14.589432</td>\n",
       "      <td>121.057243</td>\n",
       "      <td>1</td>\n",
       "      <td>NB</td>\n",
       "      <td>STALLED L300 DUE TO MECHANICAL PROBLEM</td>\n",
       "      <td>1.0</td>\n",
       "      <td>L300</td>\n",
       "      <td>MMDA ALERT: Stalled L300 due to mechanical pro...</td>\n",
       "      <td>https://twitter.com/mmda/status/10313462477459...</td>\n",
       "    </tr>\n",
       "    <tr>\n",
       "      <th>2</th>\n",
       "      <td>2018-08-20</td>\n",
       "      <td>9:13 AM</td>\n",
       "      <td>Makati City</td>\n",
       "      <td>EDSA ROCKWELL</td>\n",
       "      <td>14.559818</td>\n",
       "      <td>121.040737</td>\n",
       "      <td>1</td>\n",
       "      <td>SB</td>\n",
       "      <td>VEHICULAR ACCIDENT</td>\n",
       "      <td>1.0</td>\n",
       "      <td>SUV AND L300</td>\n",
       "      <td>MMDA ALERT: Vehicular accident at EDSA Rockwel...</td>\n",
       "      <td>https://twitter.com/mmda/status/10313589669896...</td>\n",
       "    </tr>\n",
       "    <tr>\n",
       "      <th>3</th>\n",
       "      <td>2018-08-20</td>\n",
       "      <td>8:42 AM</td>\n",
       "      <td>Mandaluyong</td>\n",
       "      <td>EDSA GUADIX</td>\n",
       "      <td>14.589432</td>\n",
       "      <td>121.057243</td>\n",
       "      <td>1</td>\n",
       "      <td>NB</td>\n",
       "      <td>STALLED L300 DUE TO MECHANICAL PROBLEM</td>\n",
       "      <td>1.0</td>\n",
       "      <td>L300</td>\n",
       "      <td>MMDA ALERT: Stalled L300 due to mechanical pro...</td>\n",
       "      <td>https://twitter.com/mmda/status/10313590696535...</td>\n",
       "    </tr>\n",
       "    <tr>\n",
       "      <th>4</th>\n",
       "      <td>2018-08-20</td>\n",
       "      <td>10:27 AM</td>\n",
       "      <td>San Juan</td>\n",
       "      <td>ORTIGAS CLUB FILIPINO</td>\n",
       "      <td>14.601846</td>\n",
       "      <td>121.046754</td>\n",
       "      <td>1</td>\n",
       "      <td>EB</td>\n",
       "      <td>VEHICULAR ACCIDENT</td>\n",
       "      <td>1.0</td>\n",
       "      <td>2 CARS</td>\n",
       "      <td>MMDA ALERT: Vehicular accident at Ortigas Club...</td>\n",
       "      <td>https://twitter.com/mmda/status/10313711248424...</td>\n",
       "    </tr>\n",
       "  </tbody>\n",
       "</table>\n",
       "</div>"
      ],
      "text/plain": [
       "         Date      Time         City               Location   Latitude  \\\n",
       "0  2018-08-20   7:55 AM   Pasig City        ORTIGAS EMERALD  14.586343   \n",
       "1  2018-08-20   8:42 AM  Mandaluyong            EDSA GUADIX  14.589432   \n",
       "2  2018-08-20   9:13 AM  Makati City          EDSA ROCKWELL  14.559818   \n",
       "3  2018-08-20   8:42 AM  Mandaluyong            EDSA GUADIX  14.589432   \n",
       "4  2018-08-20  10:27 AM     San Juan  ORTIGAS CLUB FILIPINO  14.601846   \n",
       "\n",
       "    Longitude  High_Accuracy Direction  \\\n",
       "0  121.061481              1        EB   \n",
       "1  121.057243              1        NB   \n",
       "2  121.040737              1        SB   \n",
       "3  121.057243              1        NB   \n",
       "4  121.046754              1        EB   \n",
       "\n",
       "                                     Type  Lanes_Blocked      Involved  \\\n",
       "0                      VEHICULAR ACCIDENT            1.0   TAXI AND MC   \n",
       "1  STALLED L300 DUE TO MECHANICAL PROBLEM            1.0          L300   \n",
       "2                      VEHICULAR ACCIDENT            1.0  SUV AND L300   \n",
       "3  STALLED L300 DUE TO MECHANICAL PROBLEM            1.0          L300   \n",
       "4                      VEHICULAR ACCIDENT            1.0        2 CARS   \n",
       "\n",
       "                                               Tweet  \\\n",
       "0  MMDA ALERT: Vehicular accident at Ortigas Emer...   \n",
       "1  MMDA ALERT: Stalled L300 due to mechanical pro...   \n",
       "2  MMDA ALERT: Vehicular accident at EDSA Rockwel...   \n",
       "3  MMDA ALERT: Stalled L300 due to mechanical pro...   \n",
       "4  MMDA ALERT: Vehicular accident at Ortigas Club...   \n",
       "\n",
       "                                              Source  \n",
       "0  https://twitter.com/mmda/status/10313302019705...  \n",
       "1  https://twitter.com/mmda/status/10313462477459...  \n",
       "2  https://twitter.com/mmda/status/10313589669896...  \n",
       "3  https://twitter.com/mmda/status/10313590696535...  \n",
       "4  https://twitter.com/mmda/status/10313711248424...  "
      ]
     },
     "execution_count": 12,
     "metadata": {},
     "output_type": "execute_result"
    }
   ],
   "source": [
    "df.head()"
   ]
  },
  {
   "cell_type": "code",
   "execution_count": 13,
   "id": "dc9d17ae",
   "metadata": {},
   "outputs": [
    {
     "data": {
      "text/plain": [
       "Date              object\n",
       "Time              object\n",
       "City              object\n",
       "Location          object\n",
       "Latitude         float64\n",
       "Longitude        float64\n",
       "High_Accuracy      int64\n",
       "Direction         object\n",
       "Type              object\n",
       "Lanes_Blocked    float64\n",
       "Involved          object\n",
       "Tweet             object\n",
       "Source            object\n",
       "dtype: object"
      ]
     },
     "execution_count": 13,
     "metadata": {},
     "output_type": "execute_result"
    }
   ],
   "source": [
    "# Check the data types of each column\n",
    "df.dtypes"
   ]
  },
  {
   "cell_type": "markdown",
   "id": "be042553",
   "metadata": {},
   "source": [
    "## Dataset Overview\n",
    "\n",
    "The dataset consists of traffic incident records with the following columns:\n",
    "\n",
    "| Column Name       | Data Type | Description                                 |\n",
    "|-------------------|-----------|---------------------------------------------|\n",
    "| `Date`            | object    | The date the incident occurred              |\n",
    "| `Time`            | object    | The time the incident occurred              |\n",
    "| `City`            | object    | City where the incident took place          |\n",
    "| `Location`        | object    | Textual location description                |\n",
    "| `Latitude`        | float64   | Latitude coordinate of the incident         |\n",
    "| `Longitude`       | float64   | Longitude coordinate of the incident        |\n",
    "| `High_Accuracy`   | int64     | Indicator of GPS accuracy (1 = high)        |\n",
    "| `Direction`       | object    | Direction of travel (if available)          |\n",
    "| `Type`            | object    | Type of incident (e.g., accident, hazard)   |\n",
    "| `Lanes_Blocked`   | float64   | Number of lanes blocked (if any)            |\n",
    "| `Involved`        | object    | Entities involved (if mentioned)            |\n",
    "| `Tweet`           | object    | Original tweet text describing the incident |\n",
    "| `Source`          | object    | Source account or reporting entity          |\n",
    "\n",
    "### Data Cleaning Note\n",
    "\n",
    "The `Date` and `Time` columns are currently stored as `object` types. To enable proper temporal analysis, we will:\n",
    "\n",
    "- Convert both `Date` and `Time` to appropriate datetime formats.\n",
    "- Create a new column called `Datetime` by combining `Date` and `Time`.\n",
    "\n",
    "This will help with:\n",
    "- Sorting and filtering by time\n",
    "- Extracting features like hour, day of week, etc.\n",
    "- Time-based visualizations and aggregations"
   ]
  },
  {
   "cell_type": "code",
   "execution_count": null,
   "id": "42b51de8",
   "metadata": {},
   "outputs": [
    {
     "name": "stdout",
     "output_type": "stream",
     "text": [
      "[datetime.time(7, 55) datetime.time(8, 42) datetime.time(9, 13) ...\n",
      " datetime.time(2, 4) datetime.time(4, 44) datetime.time(2, 13)]\n"
     ]
    }
   ],
   "source": [
    "# "
   ]
  },
  {
   "cell_type": "code",
   "execution_count": null,
   "id": "5ab4efa2",
   "metadata": {},
   "outputs": [],
   "source": [
    "# Handling missing values for 'Time' and 'Direction'\n",
    "df['Time'] = df['Time'].fillna('Unknown')\n",
    "df['Direction'] = df['Direction'].fillna('Unknown')\n",
    "\n",
    "# Handling missing values for 'City', 'Location', 'Type', 'Lanes_Blocked', and 'Involved'\n",
    "df = df.dropna(subset=['City', 'Location', 'Type', 'Lanes_Blocked', 'Involved'])"
   ]
  }
 ],
 "metadata": {
  "kernelspec": {
   "display_name": ".venv",
   "language": "python",
   "name": "python3"
  },
  "language_info": {
   "codemirror_mode": {
    "name": "ipython",
    "version": 3
   },
   "file_extension": ".py",
   "mimetype": "text/x-python",
   "name": "python",
   "nbconvert_exporter": "python",
   "pygments_lexer": "ipython3",
   "version": "3.12.7"
  }
 },
 "nbformat": 4,
 "nbformat_minor": 5
}
